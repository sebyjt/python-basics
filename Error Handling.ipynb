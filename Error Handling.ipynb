{
 "cells": [
  {
   "cell_type": "markdown",
   "metadata": {},
   "source": [
    "# Try Except"
   ]
  },
  {
   "cell_type": "code",
   "execution_count": 33,
   "metadata": {},
   "outputs": [
    {
     "name": "stdout",
     "output_type": "stream",
     "text": [
      "enter 1st number 4\n",
      "enter 2nd number 2\n"
     ]
    }
   ],
   "source": [
    "a=int(input(\"enter 1st number \"))\n",
    "b=int(input(\"enter 2nd number \"))   \n"
   ]
  },
  {
   "cell_type": "code",
   "execution_count": 34,
   "metadata": {},
   "outputs": [
    {
     "name": "stdout",
     "output_type": "stream",
     "text": [
      "the Quotient  is 2.0\n"
     ]
    }
   ],
   "source": [
    "try:\n",
    "    quotient=a/b\n",
    "except:\n",
    "    print(f\"cant divide {a} & {b} \")\n",
    "else:\n",
    "    print(f\"the quotient  is {quotient}\")\n"
   ]
  },
  {
   "cell_type": "code",
   "execution_count": 36,
   "metadata": {},
   "outputs": [
    {
     "name": "stdout",
     "output_type": "stream",
     "text": [
      "enter a number t\n",
      "sorry you didn’t enter a number \n",
      "Thanks for the input\n",
      "enter a number 1\n",
      "correctly entered\n",
      "Thanks for the input\n"
     ]
    }
   ],
   "source": [
    "while True:    \n",
    "    try:\n",
    "        c=int(input(\"enter a number \"))\n",
    "    except:\n",
    "        print(\"sorry you didn’t enter a number \")\n",
    "    else:\n",
    "        print(\"correctly entered\")\n",
    "        break;\n",
    "    finally:\n",
    "        print(\"Thanks for the input\")"
   ]
  },
  {
   "cell_type": "code",
   "execution_count": null,
   "metadata": {},
   "outputs": [],
   "source": []
  }
 ],
 "metadata": {
  "kernelspec": {
   "display_name": "Python 3",
   "language": "python",
   "name": "python3"
  },
  "language_info": {
   "codemirror_mode": {
    "name": "ipython",
    "version": 3
   },
   "file_extension": ".py",
   "mimetype": "text/x-python",
   "name": "python",
   "nbconvert_exporter": "python",
   "pygments_lexer": "ipython3",
   "version": "3.6.8"
  }
 },
 "nbformat": 4,
 "nbformat_minor": 2
}
